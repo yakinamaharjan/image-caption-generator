{
 "cells": [
  {
   "cell_type": "code",
   "execution_count": null,
   "id": "bb13a13b",
   "metadata": {},
   "outputs": [],
   "source": [
    "# import kagglehub\n",
    "\n",
    "# path = kagglehub.dataset_download(\"hsankesara/flickr-image-dataset\")\n",
    "\n",
    "# print(\"Path to dataset files:\", path)"
   ]
  }
 ],
 "metadata": {
  "language_info": {
   "name": "python"
  }
 },
 "nbformat": 4,
 "nbformat_minor": 5
}
