{
 "cells": [
  {
   "cell_type": "code",
   "execution_count": 1,
   "id": "7028b056",
   "metadata": {},
   "outputs": [],
   "source": [
    "import os\n",
    "import pandas as pd\n",
    "import numpy as np\n",
    "from sklearn.model_selection import train_test_split\n",
    "import re\n",
    "import string\n",
    "import json"
   ]
  },
  {
   "cell_type": "code",
   "execution_count": 2,
   "id": "8c772179",
   "metadata": {},
   "outputs": [],
   "source": [
    "path = \"C:/Users/Yakina/.cache/kagglehub/datasets/hsankesara/flickr-image-dataset/versions/1/flickr30k_images/\""
   ]
  },
  {
   "cell_type": "code",
   "execution_count": 3,
   "id": "ab07b82f",
   "metadata": {},
   "outputs": [],
   "source": [
    "images_dir = path + 'flickr30k_images/'\n",
    "captions_file_path = path + 'results.csv'\n",
    "output_dir = \"processed_data\""
   ]
  },
  {
   "cell_type": "code",
   "execution_count": 4,
   "id": "8cea3270",
   "metadata": {},
   "outputs": [],
   "source": [
    "def clean_caption(caption):\n",
    "    \"\"\"Clean caption text\"\"\"\n",
    "    caption = str(caption).lower()\n",
    "    caption = caption.translate(str.maketrans('', '', string.punctuation))\n",
    "    caption = re.sub(r'[^a-zA-Z\\s]', '', caption)\n",
    "    caption = re.sub(r'\\s+', ' ', caption)\n",
    "    caption = caption.strip()\n",
    "    \n",
    "    return caption"
   ]
  },
  {
   "cell_type": "code",
   "execution_count": 5,
   "id": "42cf0870",
   "metadata": {},
   "outputs": [
    {
     "name": "stderr",
     "output_type": "stream",
     "text": [
      "C:\\Users\\Yakina\\AppData\\Local\\Temp\\ipykernel_6976\\3425140360.py:1: ParserWarning: Falling back to the 'python' engine because the 'c' engine does not support regex separators (separators > 1 char and different from '\\s+' are interpreted as regex); you can avoid this warning by specifying engine='python'.\n",
      "  df = pd.read_csv(captions_file_path, sep = r'\\s*\\|\\s*')\n"
     ]
    }
   ],
   "source": [
    "df = pd.read_csv(captions_file_path, sep = r'\\s*\\|\\s*')\n",
    "df['comment'] = df['comment'].apply(clean_caption)"
   ]
  },
  {
   "cell_type": "code",
   "execution_count": 6,
   "id": "75e373c6",
   "metadata": {},
   "outputs": [
    {
     "data": {
      "text/plain": [
       "158915"
      ]
     },
     "execution_count": 6,
     "metadata": {},
     "output_type": "execute_result"
    }
   ],
   "source": [
    "len(df)"
   ]
  },
  {
   "cell_type": "code",
   "execution_count": 7,
   "id": "83664efe",
   "metadata": {},
   "outputs": [
    {
     "data": {
      "text/html": [
       "<div>\n",
       "<style scoped>\n",
       "    .dataframe tbody tr th:only-of-type {\n",
       "        vertical-align: middle;\n",
       "    }\n",
       "\n",
       "    .dataframe tbody tr th {\n",
       "        vertical-align: top;\n",
       "    }\n",
       "\n",
       "    .dataframe thead th {\n",
       "        text-align: right;\n",
       "    }\n",
       "</style>\n",
       "<table border=\"1\" class=\"dataframe\">\n",
       "  <thead>\n",
       "    <tr style=\"text-align: right;\">\n",
       "      <th></th>\n",
       "      <th>image_name</th>\n",
       "      <th>comment_number</th>\n",
       "      <th>comment</th>\n",
       "    </tr>\n",
       "  </thead>\n",
       "  <tbody>\n",
       "    <tr>\n",
       "      <th>0</th>\n",
       "      <td>1000092795.jpg</td>\n",
       "      <td>0</td>\n",
       "      <td>two young guys with shaggy hair look at their ...</td>\n",
       "    </tr>\n",
       "    <tr>\n",
       "      <th>1</th>\n",
       "      <td>1000092795.jpg</td>\n",
       "      <td>1</td>\n",
       "      <td>two young white males are outside near many bu...</td>\n",
       "    </tr>\n",
       "    <tr>\n",
       "      <th>2</th>\n",
       "      <td>1000092795.jpg</td>\n",
       "      <td>2</td>\n",
       "      <td>two men in green shirts are standing in a yard</td>\n",
       "    </tr>\n",
       "    <tr>\n",
       "      <th>3</th>\n",
       "      <td>1000092795.jpg</td>\n",
       "      <td>3</td>\n",
       "      <td>a man in a blue shirt standing in a garden</td>\n",
       "    </tr>\n",
       "    <tr>\n",
       "      <th>4</th>\n",
       "      <td>1000092795.jpg</td>\n",
       "      <td>4</td>\n",
       "      <td>two friends enjoy time spent together</td>\n",
       "    </tr>\n",
       "  </tbody>\n",
       "</table>\n",
       "</div>"
      ],
      "text/plain": [
       "       image_name  comment_number  \\\n",
       "0  1000092795.jpg               0   \n",
       "1  1000092795.jpg               1   \n",
       "2  1000092795.jpg               2   \n",
       "3  1000092795.jpg               3   \n",
       "4  1000092795.jpg               4   \n",
       "\n",
       "                                             comment  \n",
       "0  two young guys with shaggy hair look at their ...  \n",
       "1  two young white males are outside near many bu...  \n",
       "2     two men in green shirts are standing in a yard  \n",
       "3         a man in a blue shirt standing in a garden  \n",
       "4              two friends enjoy time spent together  "
      ]
     },
     "execution_count": 7,
     "metadata": {},
     "output_type": "execute_result"
    }
   ],
   "source": [
    "df.head()"
   ]
  },
  {
   "cell_type": "code",
   "execution_count": 8,
   "id": "01305c07",
   "metadata": {},
   "outputs": [
    {
     "name": "stdout",
     "output_type": "stream",
     "text": [
      "158915 captions for 31783 images\n"
     ]
    }
   ],
   "source": [
    "# Filter out images that don't exist\n",
    "existing_images = []\n",
    "missing_images = []\n",
    "\n",
    "for image_name in df['image_name'].unique():\n",
    "\timage_path = os.path.join(images_dir, image_name)\n",
    "\tif os.path.exists(image_path):\n",
    "\t\texisting_images.append(image_name)\n",
    "\telse:\n",
    "\t\tmissing_images.append(image_name)\n",
    "\n",
    "if missing_images:\n",
    "\tprint(f\"Warning: {len(missing_images)} images not found in directory\")\n",
    "\tdf = df[df['image_name'].isin(existing_images)]\n",
    "\n",
    "print(f\"{len(df)} captions for {len(existing_images)} images\")"
   ]
  },
  {
   "cell_type": "code",
   "execution_count": 9,
   "id": "093cbc49",
   "metadata": {},
   "outputs": [],
   "source": [
    "unique_images = df['image_name'].unique()"
   ]
  },
  {
   "cell_type": "code",
   "execution_count": 10,
   "id": "1036a64e",
   "metadata": {},
   "outputs": [],
   "source": [
    "# 80% train, 10% validation, 10% test\n",
    "train_images, temp_images = train_test_split(unique_images, test_size=0.2, random_state=42)\n",
    "val_images, test_images = train_test_split(temp_images, test_size=0.5, random_state=42)"
   ]
  },
  {
   "cell_type": "code",
   "execution_count": 11,
   "id": "4c34d174",
   "metadata": {},
   "outputs": [
    {
     "name": "stdout",
     "output_type": "stream",
     "text": [
      "Train set: 127130 captions for 25426 images\n",
      "Validation set: 15890 captions for 3178 images\n",
      "Test set: 15895 captions for 3179 images\n"
     ]
    }
   ],
   "source": [
    "train_df = df[df['image_name'].isin(train_images)]\n",
    "val_df = df[df['image_name'].isin(val_images)]\n",
    "test_df = df[df['image_name'].isin(test_images)]\n",
    "\n",
    "print(f\"Train set: {len(train_df)} captions for {len(train_images)} images\")\n",
    "print(f\"Validation set: {len(val_df)} captions for {len(val_images)} images\")\n",
    "print(f\"Test set: {len(test_df)} captions for {len(test_images)} images\")"
   ]
  },
  {
   "cell_type": "code",
   "execution_count": 12,
   "id": "74c11699",
   "metadata": {},
   "outputs": [],
   "source": [
    "os.makedirs(output_dir, exist_ok=True)"
   ]
  },
  {
   "cell_type": "code",
   "execution_count": 13,
   "id": "7ce331a5",
   "metadata": {},
   "outputs": [],
   "source": [
    "# Save splits\n",
    "train_df.to_csv(os.path.join(output_dir, 'train_captions.csv'), index=False)\n",
    "val_df.to_csv(os.path.join(output_dir, 'val_captions.csv'), index=False)\n",
    "test_df.to_csv(os.path.join(output_dir, 'test_captions.csv'), index=False)"
   ]
  },
  {
   "cell_type": "code",
   "execution_count": 14,
   "id": "ac6dce6f",
   "metadata": {},
   "outputs": [],
   "source": [
    "stats = {\n",
    "\t'total_images': len(existing_images),\n",
    "\t'total_captions': len(df),\n",
    "\t'train_images': len(train_images),\n",
    "\t'val_images': len(val_images),\n",
    "\t'test_images': len(test_images),\n",
    "\t'train_captions': len(train_df),\n",
    "\t'val_captions': len(val_df),\n",
    "\t'test_captions': len(test_df),\n",
    "\t'avg_caption_length': df['comment'].str.split().str.len().mean(),\n",
    "\t'vocab_size_estimate': len(set(' '.join(df['comment']).split()))\n",
    "}"
   ]
  },
  {
   "cell_type": "code",
   "execution_count": 15,
   "id": "2306f9fb",
   "metadata": {},
   "outputs": [
    {
     "name": "stdout",
     "output_type": "stream",
     "text": [
      "\n",
      "Dataset Statistics:\n",
      "total_images: 31783\n",
      "total_captions: 158915\n",
      "train_images: 25426\n",
      "val_images: 3178\n",
      "test_images: 3179\n",
      "train_captions: 127130\n",
      "val_captions: 15890\n",
      "test_captions: 15895\n",
      "avg_caption_length: 12.25\n",
      "vocab_size_estimate: 19770\n"
     ]
    }
   ],
   "source": [
    "print(\"\\nDataset Statistics:\")\n",
    "for key, value in stats.items():\n",
    "\tif isinstance(value, float):\n",
    "\t\tprint(f\"{key}: {value:.2f}\")\n",
    "\telse:\n",
    "\t\tprint(f\"{key}: {value}\")"
   ]
  },
  {
   "cell_type": "code",
   "execution_count": 16,
   "id": "ec5195d7",
   "metadata": {},
   "outputs": [],
   "source": [
    "with open(os.path.join(output_dir, 'dataset_stats.json'), 'w') as f:\n",
    "\tjson.dump(stats, f, indent=2)"
   ]
  }
 ],
 "metadata": {
  "kernelspec": {
   "display_name": "t",
   "language": "python",
   "name": "python3"
  },
  "language_info": {
   "codemirror_mode": {
    "name": "ipython",
    "version": 3
   },
   "file_extension": ".py",
   "mimetype": "text/x-python",
   "name": "python",
   "nbconvert_exporter": "python",
   "pygments_lexer": "ipython3",
   "version": "3.9.21"
  }
 },
 "nbformat": 4,
 "nbformat_minor": 5
}
